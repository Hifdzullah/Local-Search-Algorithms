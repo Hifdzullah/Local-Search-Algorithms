{
 "cells": [
  {
   "cell_type": "code",
   "execution_count": 1,
   "metadata": {},
   "outputs": [
    {
     "name": "stdout",
     "output_type": "stream",
     "text": [
      "Enter N: 8\n",
      "Initial board: [6, 3, 8, 3, 3, 3, 7, 4]\n",
      "Final board: [6, 4, 1, 5, 8, 2, 7, 3]\n",
      "Number of steps taken: 475752\n",
      "1.304973840713501 seconds\n"
     ]
    }
   ],
   "source": [
    "import random\n",
    "import time\n",
    "\n",
    "N = input(\"Enter N: \")\n",
    "N = int(N)\n",
    "\n",
    "start_time = time.time()\n",
    "\n",
    "def random_board(N):\n",
    "    \n",
    "    return [random.randint(1, N) for _ in range(N)]\n",
    "\n",
    "board = random_board(N)\n",
    "print(\"Initial board:\", board)\n",
    "\n",
    "maxit = 1000000 # (true max = maxit + N)\n",
    "iterations = 0\n",
    "\n",
    "# function for checking the collisions of queens on the board\n",
    "# https://github.com/davpal/eight-queens\n",
    "def collisions(boardcheck):\n",
    "    \n",
    "    horizontal_collisions = sum([boardcheck.count(queen) - 1 for queen in boardcheck]) / 2\n",
    "    diagonal_collisions = 0\n",
    "\n",
    "    n = len(boardcheck)\n",
    "    \n",
    "    left_diagonal = [0] * 2 * n\n",
    "    right_diagonal = [0] * 2 * n\n",
    "    \n",
    "    for i in range(n):\n",
    "        \n",
    "        left_diagonal[i + boardcheck[i] - 1] += 1\n",
    "        right_diagonal[len(boardcheck) - i + boardcheck[i] - 2] += 1\n",
    "\n",
    "    diagonal_collisions = 0\n",
    "    \n",
    "    for i in range(2 * n - 1):\n",
    "        \n",
    "        counter = 0\n",
    "        \n",
    "        if left_diagonal[i] > 1:\n",
    "            \n",
    "            counter += left_diagonal[i] - 1\n",
    "            \n",
    "        if right_diagonal[i] > 1:\n",
    "            \n",
    "            counter += right_diagonal[i] - 1\n",
    "            \n",
    "        diagonal_collisions += counter\n",
    "\n",
    "    return int(horizontal_collisions + diagonal_collisions)\n",
    "\n",
    "while iterations <= maxit:\n",
    "    \n",
    "    for i in range(N):\n",
    "        \n",
    "        board[i] = random.randint(1, N)\n",
    "    \n",
    "        iterations += 1\n",
    "            \n",
    "    if collisions(board) == 0:\n",
    "        \n",
    "            break\n",
    "        \n",
    "if collisions(board) != 0:\n",
    "    \n",
    "    print(\"Could not solve\")\n",
    "    \n",
    "print(\"Final board:\", board)\n",
    "print(\"Number of steps taken:\", iterations)\n",
    "print(\"%s seconds\" % (time.time() - start_time))"
   ]
  },
  {
   "cell_type": "code",
   "execution_count": null,
   "metadata": {},
   "outputs": [],
   "source": []
  }
 ],
 "metadata": {
  "kernelspec": {
   "display_name": "Python 3",
   "language": "python",
   "name": "python3"
  },
  "language_info": {
   "codemirror_mode": {
    "name": "ipython",
    "version": 3
   },
   "file_extension": ".py",
   "mimetype": "text/x-python",
   "name": "python",
   "nbconvert_exporter": "python",
   "pygments_lexer": "ipython3",
   "version": "3.8.3"
  }
 },
 "nbformat": 4,
 "nbformat_minor": 4
}
