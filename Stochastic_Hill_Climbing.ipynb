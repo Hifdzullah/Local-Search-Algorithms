{
 "cells": [
  {
   "cell_type": "code",
   "execution_count": 67,
   "metadata": {
    "scrolled": true
   },
   "outputs": [],
   "source": [
    "import random\n",
    "import string\n",
    "import time\n",
    "import copy\n",
    "import sys"
   ]
  },
  {
   "cell_type": "code",
   "execution_count": 68,
   "metadata": {},
   "outputs": [],
   "source": [
    "def random_board(N):\n",
    "       return [ random.randint(1, N) for _ in range(N) ]"
   ]
  },
  {
   "cell_type": "code",
   "execution_count": 69,
   "metadata": {},
   "outputs": [],
   "source": [
    "def heuristic_value(individual):\n",
    "    horizontal_collisions = sum([individual.count(queen)-1 for queen in individual])/2\n",
    "    diagonal_collisions = 0\n",
    "\n",
    "    n = len(individual)\n",
    "    left_diagonal = [0] * 2*n\n",
    "    right_diagonal = [0] * 2*n\n",
    "    for i in range(n):\n",
    "        left_diagonal[i + individual[i] - 1] += 1\n",
    "        right_diagonal[len(individual) - i + individual[i] - 2] += 1\n",
    "\n",
    "    diagonal_collisions = 0\n",
    "    for i in range(2*n-1):\n",
    "        counter = 0\n",
    "        if left_diagonal[i] > 1:\n",
    "            counter += left_diagonal[i]-1\n",
    "        if right_diagonal[i] > 1:\n",
    "            counter += right_diagonal[i]-1\n",
    "        diagonal_collisions += counter #/ (n-abs(i-n+1))\n",
    "    \n",
    "    return int(horizontal_collisions + diagonal_collisions)"
   ]
  },
  {
   "cell_type": "code",
   "execution_count": 70,
   "metadata": {},
   "outputs": [],
   "source": [
    "# https://stackoverflow.com/questions/10324015/fitness-proportionate-selection-roulette-wheel-selection-in-python\n",
    "# https://stackoverflow.com/questions/44430194/roulette-wheel-selection-with-positive-and-negative-fitness-values-for-minimizat\n",
    "# Weighted random choice where a board is likelier to be chosen the lower its heuristic value is \n",
    "\n",
    "def random_pick(board_choices, board_weights):\n",
    "    \n",
    "    board_weights = [1/w for w in board_weights]\n",
    "    \n",
    "    \n",
    "    boardWithWeight = zip(board_choices,board_weights)\n",
    "    \n",
    "    total = sum(w for c,w in boardWithWeight)\n",
    "    #board_weights = [w/total for w in board_weights]\n",
    "    \n",
    "    r = random.uniform(0,total)\n",
    "    upto = 0\n",
    "    for c, w in zip(board_choices, board_weights):\n",
    "        if upto + w >= r:\n",
    "            return c\n",
    "        upto += w"
   ]
  },
  {
   "cell_type": "code",
   "execution_count": 103,
   "metadata": {},
   "outputs": [],
   "source": [
    "# If the board_choices list already contain a solution to the N Queens Problem, return the solution board.\n",
    "def pick_best(board_choices, board_weights):\n",
    "    for c, w in zip(board_choices, board_weights):\n",
    "        if w == 0:\n",
    "            return c\n"
   ]
  },
  {
   "cell_type": "code",
   "execution_count": 104,
   "metadata": {},
   "outputs": [],
   "source": [
    "def hill_climbing(board):\n",
    "    # Choose a random board with a better heuristic value\n",
    "\n",
    "    min_board = board\n",
    "    min_h = heuristic_value(board)\n",
    "    global n_steps, stuck\n",
    "\n",
    "    n_steps += 1\n",
    "\n",
    "\n",
    "    board_choices = []\n",
    "    board_weights = []\n",
    "    '''\n",
    "    Find the boards with better heuristic value than the current board, and keep the boards and their \n",
    "    heuristic values in lists.\n",
    "    '''\n",
    "    for i in range(N):\n",
    "        # Find index of queen in current row\n",
    "        queen = board[i]\n",
    "        k=0\n",
    "        for k in range (N):\n",
    "            if k != board[i]-1:\n",
    "                board[i] = k+1\n",
    "\n",
    "                h = heuristic_value(board)\n",
    "\n",
    "                if h < min_h:\n",
    "                    board_weights.append(h)\n",
    "                    temp_board = copy.deepcopy(board)\n",
    "                    #print(temp_board)\n",
    "                    board_choices.append(temp_board)\n",
    "        board[i] = queen\n",
    "    '''\n",
    "    If board_choices is non-empty, there are neighbour boards with better heuristic values than the current board.\n",
    "    Select one board to be the new min_board.\n",
    "    \n",
    "    If board_choices is empty, there are no neighbour boards with better heuristic \n",
    "    '''\n",
    "    if board_choices:\n",
    "        if 0 not in board_weights:\n",
    "            new_board = random_pick(board_choices,board_weights)\n",
    "        else: new_board = pick_best(board_choices,board_weights)\n",
    "        \n",
    "        min_h = heuristic_value(new_board)\n",
    "        min_board = new_board\n",
    "        return min_board\n",
    "        \n",
    "    else: \n",
    "        stuck = True\n",
    "        return min_board   \n",
    "        "
   ]
  },
  {
   "cell_type": "code",
   "execution_count": 108,
   "metadata": {},
   "outputs": [
    {
     "name": "stdout",
     "output_type": "stream",
     "text": [
      "Enter your value: 5\n",
      "Current board:  [2, 2, 3, 2, 5]\n",
      "Current position's heuristic value:  6\n",
      "Current board:  [2, 1, 3, 2, 5]\n",
      "Current position's heuristic value:  4\n",
      "Current board:  [4, 1, 3, 2, 5]\n",
      "Current position's heuristic value:  2\n",
      "Current board:  [4, 1, 4, 2, 5]\n",
      "Current position's heuristic value:  1\n",
      "Current board:  [3, 1, 4, 2, 5]\n",
      "Current position's heuristic value:  0\n",
      "Final Heuristic value:  0\n",
      "Number of steps:  5\n",
      "[3, 1, 4, 2, 5]\n",
      "0.014782428741455078 seconds\n"
     ]
    }
   ],
   "source": [
    "if __name__ == \"__main__\":\n",
    "    N = input(\"Enter your value: \")\n",
    "    N = int(N)\n",
    "    \n",
    "    board = random_board(N)\n",
    "\n",
    "    start_time = time.time()\n",
    "    \n",
    "    #n_side_moves = 0\n",
    "    n_steps = 0\n",
    "\n",
    "    \n",
    "    #print(\"Current position's heuristic value: \", heuristic_value(board))\n",
    "    stuck = False \n",
    "    while not stuck:\n",
    "        if heuristic_value(board)==0:\n",
    "            print(\"Final Heuristic value: \",heuristic_value(min_board))\n",
    "            print(\"Number of steps: \",n_steps)\n",
    "            break\n",
    "            \n",
    "        else: \n",
    "            min_board = hill_climbing(board)\n",
    "            print(\"Current board: \", min_board)\n",
    "            print(\"Current position's heuristic value: \", heuristic_value(min_board))\n",
    "            board = min_board\n",
    "\n",
    "\n",
    "    if heuristic_value(min_board)== 0:\n",
    "           print (min_board)\n",
    "\n",
    "    else:\n",
    "        print(min_board)\n",
    "        print(\"Could not solve\")\n",
    "\n",
    "    print(\"%s seconds\" % (time.time() - start_time))\n"
   ]
  },
  {
   "cell_type": "code",
   "execution_count": null,
   "metadata": {},
   "outputs": [],
   "source": []
  },
  {
   "cell_type": "code",
   "execution_count": null,
   "metadata": {},
   "outputs": [],
   "source": []
  }
 ],
 "metadata": {
  "kernelspec": {
   "display_name": "Python 3",
   "language": "python",
   "name": "python3"
  },
  "language_info": {
   "codemirror_mode": {
    "name": "ipython",
    "version": 3
   },
   "file_extension": ".py",
   "mimetype": "text/x-python",
   "name": "python",
   "nbconvert_exporter": "python",
   "pygments_lexer": "ipython3",
   "version": "3.8.3"
  }
 },
 "nbformat": 4,
 "nbformat_minor": 4
}
